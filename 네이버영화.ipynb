{
 "cells": [
  {
   "cell_type": "code",
   "execution_count": 1,
   "id": "c8b267d2",
   "metadata": {},
   "outputs": [
    {
     "name": "stdout",
     "output_type": "stream",
     "text": [
      "은교 리뷰가 저장되었습니다.\n",
      "완득이 리뷰가 저장되었습니다.\n",
      "나는 내일, 어제의 너와 만난다 리뷰가 저장되었습니다.\n",
      "개를 훔치는 완벽한 방법 리뷰가 저장되었습니다.\n",
      "그 시절 우리가 좋아했던 소녀 리뷰가 저장되었습니다.\n",
      "너의 췌장을 먹고 싶어 리뷰가 저장되었습니다.\n"
     ]
    }
   ],
   "source": [
    "from bs4 import BeautifulSoup as bs\n",
    "import requests\n",
    "\n",
    "movie_urls = ['영화이름1', '영화이름2', '영화이름3', \n",
    "              '영화이름4', '영화이름5', ...] # 필요한 영화명 리스트로 저장\n",
    "\n",
    "movie_numbers = ['88295','80866','157178','112040','88669', ...]  # 필요한 영화의 URL 주소 고유 번호\n",
    "\n",
    "for movie_name, movie_number in zip(movie_urls, movie_numbers):\n",
    "    output_file = f'{movie_name}_reviews.txt'\n",
    "\n",
    "    with open(output_file, 'w', encoding='utf-8') as f:\n",
    "        for i in range(1, 1500):\n",
    "            try:\n",
    "                url = f'https://search.naver.com/p/csearch/content/nqapirender.nhn?where=nexearch&pkid=68&fileKey=movieKBPointAPI&u1={movie_number}&_callback=_nexearch_where_68_pkid_movieKBPointAPI_fileKey_{movie_number}_u1_true_u5_newest_u3_true_u4_1_u2&u5=&u3=newest&u4=true&u2={i}'\n",
    "                response = requests.get(url)\n",
    "#                 response.raise_for_status()  # HTTP 오류가 발생하면 예외를 발생시킴\n",
    "\n",
    "                html_text = response.text\n",
    "                soup = bs(response.text, 'html.parser')\n",
    "                text = soup.get_text()\n",
    "                f.write(text)\n",
    "            except:\n",
    "                break\n",
    "    print(f\"{movie_name} 리뷰가 저장되었습니다.\")\n"
   ]
  },
  {
   "cell_type": "code",
   "execution_count": 4,
   "id": "bdffc58d",
   "metadata": {},
   "outputs": [
    {
     "name": "stdout",
     "output_type": "stream",
     "text": [
      "텍스트가 정리되었습니다. 결과 파일명: naver_미 비포 유_reviews.txt\n",
      "텍스트가 정리되었습니다. 결과 파일명: naver_오만과 편견_reviews.txt\n",
      "텍스트가 정리되었습니다. 결과 파일명: naver_7년의 밤_reviews.txt\n",
      "텍스트가 정리되었습니다. 결과 파일명: naver_82년생 김지영_reviews.txt\n",
      "텍스트가 정리되었습니다. 결과 파일명: naver_개를 훔치는 완벽한 방법_reviews.txt\n",
      "텍스트가 정리되었습니다. 결과 파일명: naver_골든슬럼버_reviews.txt\n",
      "텍스트가 정리되었습니다. 결과 파일명: naver_그 시절 우리가 좋아했던 소녀_reviews.txt\n",
      "텍스트가 정리되었습니다. 결과 파일명: naver_나는 내일, 어제의 너와 만난다_reviews.txt\n",
      "텍스트가 정리되었습니다. 결과 파일명: naver_나미야 잡화점의 기적_reviews.txt\n",
      "텍스트가 정리되었습니다. 결과 파일명: naver_남한산성_reviews.txt\n",
      "텍스트가 정리되었습니다. 결과 파일명: naver_내 심장을 쏴라_reviews.txt\n",
      "텍스트가 정리되었습니다. 결과 파일명: naver_너의 췌장을 먹고 싶어_reviews.txt\n",
      "텍스트가 정리되었습니다. 결과 파일명: naver_당신 거기 있어줄래요_reviews.txt\n",
      "텍스트가 정리되었습니다. 결과 파일명: naver_덕혜옹주_reviews.txt\n",
      "텍스트가 정리되었습니다. 결과 파일명: naver_두근두근 내 인생_reviews.txt\n",
      "텍스트가 정리되었습니다. 결과 파일명: naver_마당을 나온 암탉_reviews.txt\n",
      "텍스트가 정리되었습니다. 결과 파일명: naver_살인자의 기억법_reviews.txt\n",
      "텍스트가 정리되었습니다. 결과 파일명: naver_상실의 시대_reviews.txt\n",
      "텍스트가 정리되었습니다. 결과 파일명: naver_아가씨_reviews.txt\n",
      "텍스트가 정리되었습니다. 결과 파일명: naver_안나 카레니나_reviews.txt\n",
      "텍스트가 정리되었습니다. 결과 파일명: naver_어톤먼트_reviews.txt\n",
      "텍스트가 정리되었습니다. 결과 파일명: naver_완득이_reviews.txt\n",
      "텍스트가 정리되었습니다. 결과 파일명: naver_용의자 x의 헌신_reviews.txt\n",
      "텍스트가 정리되었습니다. 결과 파일명: naver_우리들의 행복한 시간_reviews.txt\n",
      "텍스트가 정리되었습니다. 결과 파일명: naver_우아한 거짓말_reviews.txt\n",
      "텍스트가 정리되었습니다. 결과 파일명: naver_은교_reviews.txt\n",
      "텍스트가 정리되었습니다. 결과 파일명: naver_헝거게임_reviews.txt\n"
     ]
    }
   ],
   "source": [
    "import re\n",
    "\n",
    "def clean_text(input_file, output_file, target_strings):\n",
    "    try:\n",
    "        # UTF-8 인코딩으로 파일 열기\n",
    "        with open(input_file, 'r', encoding='utf-8') as fr:\n",
    "            contents = fr.readlines()\n",
    "\n",
    "        cleaned_text_list = []\n",
    "        for content in contents:\n",
    "            # 여러 개의 특정 문자열 제거\n",
    "            for target_string in target_strings:\n",
    "                content = content.replace(target_string, '')\n",
    "\n",
    "            # 특수 문자, 영어 제거\n",
    "            content = re.sub('[^가-힣\\s]', '', content)\n",
    "\n",
    "            # 여러 공백을 단일 공백으로 변환하고 양쪽 공백 제거\n",
    "            content = re.sub('[\\s]+', ' ', content).strip()\n",
    "\n",
    "            cleaned_text_list.append(content)\n",
    "\n",
    "        # 결과를 새로운 텍스트 파일에 저장\n",
    "        with open(output_file, 'w', encoding='utf-8') as fw:\n",
    "            for cleaned_text in cleaned_text_list:\n",
    "                fw.write(cleaned_text + '\\n')\n",
    "\n",
    "        print(f\"텍스트가 정리되었습니다. 결과 파일명: {output_file}\")\n",
    "    except Exception as e:\n",
    "        print(f\"오류 발생: {e}\")\n",
    "\n",
    "# 사용 예제\n",
    "input_files = [\"미 비포 유_reviews.txt\", \"오만과 편견_reviews.txt\", \"7년의 밤_reviews.txt\", \"82년생 김지영_reviews.txt\",\n",
    "              '개를 훔치는 완벽한 방법_reviews.txt', \"골든슬럼버_reviews.txt\", \"그 시절 우리가 좋아했던 소녀_reviews.txt\",\n",
    "              \"나는 내일, 어제의 너와 만난다_reviews.txt\", \"나미야 잡화점의 기적_reviews.txt\", \"남한산성_reviews.txt\",\n",
    "               \"내 심장을 쏴라_reviews.txt\", \"너의 췌장을 먹고 싶어_reviews.txt\", \"당신 거기 있어줄래요_reviews.txt\",\n",
    "              \"덕혜옹주_reviews.txt\", \"두근두근 내 인생_reviews.txt\", \"마당을 나온 암탉_reviews.txt\", \"살인자의 기억법_reviews.txt\",\n",
    "              \"상실의 시대_reviews.txt\", \"아가씨_reviews.txt\", \"안나 카레니나_reviews.txt\", \"어톤먼트_reviews.txt\", \"완득이_reviews.txt\",\n",
    "              \"용의자 x의 헌신_reviews.txt\", \"우리들의 행복한 시간_reviews.txt\", \"우아한 거짓말_reviews.txt\",\n",
    "              \"은교_reviews.txt\", \"헝거게임_reviews.txt\"]  # 작업할 파일명들\n",
    "\n",
    "target_strings = [\"작성자\", '작성일', '신고', '별점(10점 만점 중)', '펼쳐보기', '신고여부', '여부']  # 제거하려는 문자열 목록 설정\n",
    "\n",
    "for input_file in input_files:\n",
    "    output_file = f\"naver_{input_file}\"  # 새롭게 저장할 파일명으로 수정\n",
    "    # 함수 호출\n",
    "    clean_text(input_file, output_file, target_strings)\n"
   ]
  }
 ],
 "metadata": {
  "kernelspec": {
   "display_name": "Python 3 (ipykernel)",
   "language": "python",
   "name": "python3"
  },
  "language_info": {
   "codemirror_mode": {
    "name": "ipython",
    "version": 3
   },
   "file_extension": ".py",
   "mimetype": "text/x-python",
   "name": "python",
   "nbconvert_exporter": "python",
   "pygments_lexer": "ipython3",
   "version": "3.9.13"
  }
 },
 "nbformat": 4,
 "nbformat_minor": 5
}
